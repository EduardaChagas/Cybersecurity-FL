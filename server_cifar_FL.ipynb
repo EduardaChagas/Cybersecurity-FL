{
 "cells": [
  {
   "cell_type": "markdown",
   "id": "8cff5138",
   "metadata": {},
   "source": [
    "Carregando os pacotes necessários:"
   ]
  },
  {
   "cell_type": "code",
   "execution_count": 1,
   "id": "77aa3393",
   "metadata": {},
   "outputs": [],
   "source": [
    "from collections import OrderedDict\n",
    "\n",
    "import torch\n",
    "import torch.nn as nn\n",
    "import torch.nn.functional as F\n",
    "import torchvision.transforms as transforms\n",
    "from torch.utils.data import DataLoader\n",
    "from torchvision.datasets import CIFAR10\n",
    "\n",
    "from typing import Tuple\n",
    "\n",
    "import flwr as fl\n",
    "\n",
    "DEVICE = torch.device(\"cuda:0\" if torch.cuda.is_available() else \"cpu\")"
   ]
  },
  {
   "cell_type": "markdown",
   "id": "29c2b3b0",
   "metadata": {},
   "source": [
    "Carregando o dataset CIFAR-10 (conjuntos de treinamento e teste):"
   ]
  },
  {
   "cell_type": "code",
   "execution_count": 2,
   "id": "80eec35e",
   "metadata": {},
   "outputs": [],
   "source": [
    "def load_data():\n",
    "    transform = transforms.Compose([transforms.ToTensor(), \n",
    "                                    transforms.Normalize((0.5, 0.5, 0.5), (0.5, 0.5, 0.5))])\n",
    "    trainset = CIFAR10(\".\", train = True, download = True, transform = transform)\n",
    "    testset = CIFAR10(\".\", train = False, download = True, transform = transform)\n",
    "    trainloader = DataLoader(trainset, batch_size = 32, shuffle = True)\n",
    "    testloader = DataLoader(testset, batch_size = 32)\n",
    "    return trainloader, testloader"
   ]
  },
  {
   "cell_type": "markdown",
   "id": "fea1f313",
   "metadata": {},
   "source": [
    "### Redes Neurais\n",
    "\n",
    "Modelo 1:"
   ]
  },
  {
   "cell_type": "code",
   "execution_count": 3,
   "id": "00a2d7f5",
   "metadata": {},
   "outputs": [],
   "source": [
    "class Net(nn.Module):\n",
    "    def __init__(self):\n",
    "        super(Net, self).__init__()\n",
    "        self.conv1 = nn.Conv2d(3, 6, 5)\n",
    "        self.pool = nn.MaxPool2d(2, 2)\n",
    "        self.conv2 = nn.Conv2d(6, 16, 5)\n",
    "        self.fc1 = nn.Linear(16 * 5 * 5, 120)\n",
    "        self.fc2 = nn.Linear(120, 84)\n",
    "        self.fc3 = nn.Linear(84, 10)\n",
    "\n",
    "    def forward(self, x):\n",
    "        x = self.pool(F.relu(self.conv1(x)))\n",
    "        x = self.pool(F.relu(self.conv2(x)))\n",
    "        x = x.view(-1, 16 * 5 * 5)\n",
    "        x = F.relu(self.fc1(x))\n",
    "        x = F.relu(self.fc2(x))\n",
    "        x = self.fc3(x)\n",
    "        return x"
   ]
  },
  {
   "cell_type": "markdown",
   "id": "8e1aab56",
   "metadata": {},
   "source": [
    "Modelo 2:"
   ]
  },
  {
   "cell_type": "code",
   "execution_count": 4,
   "id": "056cafef",
   "metadata": {},
   "outputs": [],
   "source": [
    "class CNN(nn.Module):\n",
    "    \"\"\"Simple CNN adapted\"\"\"\n",
    "\n",
    "    def __init__(self):\n",
    "        super(CNN, self).__init__()\n",
    "        self.conv1 = nn.Conv2d(3, 32, 3, 1)\n",
    "        self.conv2 = nn.Conv2d(32, 64, 3, 1)\n",
    "        self.dropout1 = nn.Dropout2d(0.25)\n",
    "        self.dropout2 = nn.Dropout2d(0.5)\n",
    "        self.fc1 = nn.Linear(12544, 128)\n",
    "        self.fc2 = nn.Linear(128, 10)\n",
    "\n",
    "    def forward(self, x):\n",
    "        x = self.conv1(x)\n",
    "        x = F.relu(x)\n",
    "        \n",
    "        x = self.conv2(x)\n",
    "        x = F.relu(x)\n",
    "        x = F.max_pool2d(x, 2)\n",
    "        x = self.dropout1(x)\n",
    "        x = torch.flatten(x, 1)\n",
    "        \n",
    "        x = self.fc1(x)\n",
    "        x = F.relu(x)\n",
    "        x = self.dropout2(x)\n",
    "        \n",
    "        x = self.fc2(x)\n",
    "        output = F.log_softmax(x, dim=1)\n",
    "        return x"
   ]
  },
  {
   "cell_type": "markdown",
   "id": "741a1c4f",
   "metadata": {},
   "source": [
    "Definindo a função cliente:"
   ]
  },
  {
   "cell_type": "code",
   "execution_count": 5,
   "id": "9f8fbe61",
   "metadata": {},
   "outputs": [],
   "source": [
    "from torchvision import models\n",
    "\n",
    "class CifarClient(fl.client.NumPyClient):\n",
    "    def __init__(self, cid, train_loader, test_loader, epochs, device: torch.device = torch.device(DEVICE)):\n",
    "        self.model = CNN().to(device)   \n",
    "        \n",
    "        self.train_loader = train_loader\n",
    "        self.test_loader = test_loader\n",
    "        self.device = device\n",
    "        self.epochs = epochs\n",
    "        \n",
    "    def get_parameters(self):\n",
    "        return [val.cpu().numpy() for _, val in self.model.state_dict().items()]\n",
    "\n",
    "    def set_parameters(self, parameters):\n",
    "        params_dict = zip(self.model.state_dict().keys(), parameters)\n",
    "        state_dict = OrderedDict({k: torch.Tensor(v) for k, v in params_dict})\n",
    "        self.model.load_state_dict(state_dict, strict=True)\n",
    "\n",
    "    def set_weights(self, weights):\n",
    "        state_dict = OrderedDict({k: torch.Tensor(v) for k, v in zip(self.model.state_dict().keys(), weights)})\n",
    "        self.model.load_state_dict(state_dict, strict = True)\n",
    "        \n",
    "    def get_weights(self) -> fl.common.Weights:\n",
    "        return [val.cpu().numpy() for _, val in self.model.state_dict().items()]\n",
    "\n",
    "    def fit(self, parameters, config):\n",
    "        self.set_parameters(parameters)\n",
    "        train(self.model, self.train_loader, epochs = self.epochs)\n",
    "        return self.get_parameters(), len(self.train_loader), {}\n",
    "\n",
    "    def evaluate(self, parameters, config):\n",
    "        self.set_parameters(parameters)\n",
    "        loss, accuracy = test(self.model, self.test_loader)\n",
    "        return float(loss), len(self.test_loader), {\"accuracy\":float(accuracy)}"
   ]
  },
  {
   "cell_type": "markdown",
   "id": "9624191d",
   "metadata": {},
   "source": [
    "Definindo a função de avaliação do servidor:"
   ]
  },
  {
   "cell_type": "code",
   "execution_count": 6,
   "id": "9e740bb3",
   "metadata": {},
   "outputs": [],
   "source": [
    "def test(model, test_loader, device: torch.device = torch.device(DEVICE)):\n",
    "    model.eval()\n",
    "    \n",
    "    test_loss: float = 0\n",
    "    correct: int = 0\n",
    "    num_test_samples: int = 0\n",
    "    with torch.no_grad():\n",
    "        for data, target in test_loader:\n",
    "            data, target = data.to(device), target.to(device)\n",
    "            num_test_samples += len(data)\n",
    "            output = model(data)\n",
    "            test_loss += torch.nn.CrossEntropyLoss()(output, target).item()  \n",
    "            pred = output.argmax(dim = 1, keepdim = True)\n",
    "            correct += pred.eq(target.view_as(pred)).sum().item()\n",
    "\n",
    "    test_loss /= num_test_samples\n",
    "\n",
    "    return (test_loss, {\"accuracy\": correct / num_test_samples})\n",
    "\n",
    "def eval(w):\n",
    "    trainloader, testloader = load_data()\n",
    "    device = torch.device(\"cuda:0\" if torch.cuda.is_available() else \"cpu\")\n",
    "    \n",
    "    server = CifarClient(\n",
    "            cid = 999,\n",
    "            train_loader = trainloader,\n",
    "            test_loader = testloader,\n",
    "            epochs = 1,\n",
    "            device = DEVICE,\n",
    "    )\n",
    "    server.set_weights(w)\n",
    "    return test(server.model, trainloader, device)"
   ]
  },
  {
   "cell_type": "markdown",
   "id": "67184f13",
   "metadata": {},
   "source": [
    "Executando o servidor:"
   ]
  },
  {
   "cell_type": "code",
   "execution_count": 7,
   "id": "65bfbe98",
   "metadata": {
    "scrolled": false
   },
   "outputs": [
    {
     "name": "stderr",
     "output_type": "stream",
     "text": [
      "INFO flower 2021-08-19 00:32:55,979 | app.py:76 | Flower server running (insecure, 2 rounds)\n",
      "INFO flower 2021-08-19 00:32:55,982 | server.py:118 | Getting initial parameters\n",
      "INFO flower 2021-08-19 00:33:27,557 | server.py:306 | Received initial parameters from one random client\n",
      "INFO flower 2021-08-19 00:33:27,558 | server.py:120 | Evaluating initial parameters\n"
     ]
    },
    {
     "name": "stdout",
     "output_type": "stream",
     "text": [
      "Files already downloaded and verified\n",
      "Files already downloaded and verified\n"
     ]
    },
    {
     "name": "stderr",
     "output_type": "stream",
     "text": [
      "/home/eduarda/cybersecurity/Cybersecurity-FL/env/lib/python3.6/site-packages/torch/nn/functional.py:718: UserWarning: Named tensors and all their associated APIs are an experimental feature and subject to change. Please do not use them for anything important until they are released as stable. (Triggered internally at  /pytorch/c10/core/TensorImpl.h:1156.)\n",
      "  return torch.max_pool2d(input, kernel_size, stride, padding, dilation, ceil_mode)\n",
      "INFO flower 2021-08-19 00:33:39,620 | server.py:127 | initial parameters (loss, other metrics): 0.0720656501197815, {'accuracy': 0.09948}\n",
      "INFO flower 2021-08-19 00:33:39,621 | server.py:133 | FL starting\n",
      "DEBUG flower 2021-08-19 00:33:39,621 | server.py:255 | fit_round: strategy sampled 2 clients (out of 2)\n",
      "DEBUG flower 2021-08-19 00:34:14,715 | server.py:264 | fit_round received 0 results and 2 failures\n"
     ]
    },
    {
     "name": "stdout",
     "output_type": "stream",
     "text": [
      "Files already downloaded and verified\n",
      "Files already downloaded and verified\n"
     ]
    },
    {
     "name": "stderr",
     "output_type": "stream",
     "text": [
      "INFO flower 2021-08-19 00:34:23,862 | server.py:154 | fit progress: (1, 0.07206574760913849, {'accuracy': 0.09948}, 44.24102469906211)\n",
      "INFO flower 2021-08-19 00:34:23,863 | server.py:199 | evaluate_round: no clients selected, cancel\n",
      "DEBUG flower 2021-08-19 00:35:38,367 | server.py:255 | fit_round: strategy sampled 2 clients (out of 2)\n",
      "DEBUG flower 2021-08-19 00:41:25,813 | server.py:264 | fit_round received 2 results and 0 failures\n"
     ]
    },
    {
     "name": "stdout",
     "output_type": "stream",
     "text": [
      "Files already downloaded and verified\n",
      "Files already downloaded and verified\n"
     ]
    },
    {
     "name": "stderr",
     "output_type": "stream",
     "text": [
      "INFO flower 2021-08-19 00:41:35,033 | server.py:154 | fit progress: (2, 0.01976533472776413, {'accuracy': 0.8364}, 475.4119321871549)\n",
      "INFO flower 2021-08-19 00:41:35,034 | server.py:199 | evaluate_round: no clients selected, cancel\n",
      "INFO flower 2021-08-19 00:41:35,035 | server.py:172 | FL finished in 475.41344188153744\n",
      "INFO flower 2021-08-19 00:41:35,036 | app.py:109 | app_fit: losses_distributed []\n",
      "INFO flower 2021-08-19 00:41:35,037 | app.py:110 | app_fit: metrics_distributed {}\n",
      "INFO flower 2021-08-19 00:41:35,038 | app.py:111 | app_fit: losses_centralized [(0, 0.0720656501197815), (1, 0.07206574760913849), (2, 0.01976533472776413)]\n",
      "INFO flower 2021-08-19 00:41:35,038 | app.py:112 | app_fit: metrics_centralized {'accuracy': [(0, 0.09948), (1, 0.09948), (2, 0.8364)]}\n",
      "DEBUG flower 2021-08-19 00:41:35,038 | server.py:205 | evaluate_round: strategy sampled 2 clients (out of 2)\n",
      "DEBUG flower 2021-08-19 00:41:37,693 | server.py:214 | evaluate_round received 2 results and 0 failures\n",
      "INFO flower 2021-08-19 00:41:37,694 | app.py:121 | app_evaluate: federated loss: 1.0797452330589294\n",
      "INFO flower 2021-08-19 00:41:37,694 | app.py:125 | app_evaluate: results [('ipv6:[::1]:38402', EvaluateRes(loss=1.0870145559310913, num_examples=1250, accuracy=0.0, metrics={'accuracy': 0.6213})), ('ipv6:[::1]:38404', EvaluateRes(loss=1.0724759101867676, num_examples=1250, accuracy=0.0, metrics={'accuracy': 0.625}))]\n",
      "INFO flower 2021-08-19 00:41:37,695 | app.py:127 | app_evaluate: failures []\n"
     ]
    }
   ],
   "source": [
    "if __name__ == \"__main__\":\n",
    "    strategy = fl.server.strategy.FedAvg(eval_fn = eval)\n",
    "    fl.server.start_server(\"[::]:8081\", config = {\"num_rounds\": 2}, strategy = strategy)"
   ]
  }
 ],
 "metadata": {
  "kernelspec": {
   "display_name": "Python 3",
   "language": "python",
   "name": "python3"
  },
  "language_info": {
   "codemirror_mode": {
    "name": "ipython",
    "version": 3
   },
   "file_extension": ".py",
   "mimetype": "text/x-python",
   "name": "python",
   "nbconvert_exporter": "python",
   "pygments_lexer": "ipython3",
   "version": "3.6.9"
  }
 },
 "nbformat": 4,
 "nbformat_minor": 5
}
